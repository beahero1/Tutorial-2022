{
 "cells": [
  {
   "attachments": {},
   "cell_type": "markdown",
   "id": "9d296338",
   "metadata": {},
   "source": [
    "## Web scraping\n",
    "\n",
    "- Retrieving HTML data from a domain name\n",
    "- Parsinig the data for specific info\n",
    "- Store the info\n",
    "- Move to another page and repeat the process"
   ]
  },
  {
   "cell_type": "markdown",
   "id": "356fe9ca",
   "metadata": {},
   "source": [
    "## Beautifulsoup\n",
    "\n",
    "Documentation: https://www.crummy.com/software/BeautifulSoup/bs4/doc\n"
   ]
  },
  {
   "cell_type": "code",
   "execution_count": null,
   "id": "67d7f9b8",
   "metadata": {},
   "outputs": [],
   "source": [
    "from urllib.request import urlopen\n",
    "from bs4 import BeautifulSoup\n",
    "\n",
    "html = urlopen('http://www.pythonscraping.com/pages/warandpeace.html')\n",
    "bs = BeautifulSoup(html, 'html.parser')"
   ]
  },
  {
   "cell_type": "code",
   "execution_count": null,
   "id": "449a990b",
   "metadata": {},
   "outputs": [],
   "source": [
    "bs"
   ]
  },
  {
   "cell_type": "code",
   "execution_count": null,
   "id": "49ae83ec",
   "metadata": {},
   "outputs": [],
   "source": [
    "bs.h1"
   ]
  },
  {
   "cell_type": "code",
   "execution_count": null,
   "id": "4f038908",
   "metadata": {},
   "outputs": [],
   "source": [
    "bs.find('span', {'class': 'red'})"
   ]
  },
  {
   "cell_type": "code",
   "execution_count": null,
   "id": "442a5aa5",
   "metadata": {
    "scrolled": true
   },
   "outputs": [],
   "source": [
    "nameList = bs.find_all('span', {'class': 'green'})\n",
    "for name in nameList:\n",
    "    print(name.text)"
   ]
  },
  {
   "cell_type": "markdown",
   "id": "319ad8dc",
   "metadata": {},
   "source": [
    "## Beautifulsoup with RegEx"
   ]
  },
  {
   "cell_type": "code",
   "execution_count": null,
   "id": "1efdd151",
   "metadata": {},
   "outputs": [],
   "source": [
    "import re\n",
    "\n",
    "html = urlopen('http://www.pythonscraping.com/pages/page3.html')\n",
    "bs = BeautifulSoup(html, 'html.parser')\n",
    "\n",
    "images = bs.find_all('img',\n",
    "    {'src':re.compile('../img/gifts/img\\d*.jpg')})\n",
    "for image in images: \n",
    "    print(image['src'])"
   ]
  },
  {
   "cell_type": "markdown",
   "id": "0cbd8836",
   "metadata": {},
   "source": [
    "## A live example: Amazon Bestsellers\n",
    "\n",
    "https://www.amazon.com/Best-Sellers-Books/zgbs/books"
   ]
  },
  {
   "cell_type": "code",
   "execution_count": null,
   "id": "34aa16da",
   "metadata": {},
   "outputs": [],
   "source": [
    "from bs4 import BeautifulSoup\n",
    "import requests\n",
    "\n",
    "url = 'https://www.amazon.com/Best-Sellers-Books/zgbs/books'\n",
    "headers = {'user-agent': 'Mozilla/5.0 (Macintosh; Intel Mac OS X 10_15_7) AppleWebKit/605.1.15 (KHTML, like Gecko) Version/15.2 Safari/605.1.15'}\n",
    "\n",
    "seller_page = requests.get(url, headers = headers)\n",
    "seller_soup = BeautifulSoup(seller_page.content, 'html.parser')"
   ]
  },
  {
   "cell_type": "code",
   "execution_count": null,
   "id": "db0a5b38",
   "metadata": {},
   "outputs": [],
   "source": [
    "books = seller_soup.find_all(id = 'gridItemRoot')"
   ]
  },
  {
   "cell_type": "code",
   "execution_count": null,
   "id": "0c93233d",
   "metadata": {},
   "outputs": [],
   "source": [
    "book = books[0]"
   ]
  },
  {
   "cell_type": "code",
   "execution_count": null,
   "id": "5cbbb2fb",
   "metadata": {},
   "outputs": [],
   "source": [
    "rank = book.find('span', {'class': 'zg-bdg-text'})\n",
    "rank"
   ]
  },
  {
   "cell_type": "code",
   "execution_count": null,
   "id": "5a5f7c05",
   "metadata": {},
   "outputs": [],
   "source": [
    "print(rank.text)"
   ]
  },
  {
   "cell_type": "code",
   "execution_count": null,
   "id": "f31468d2",
   "metadata": {},
   "outputs": [],
   "source": [
    "children = book.find('div', {'class': 'zg-grid-general-faceout'})"
   ]
  },
  {
   "cell_type": "code",
   "execution_count": null,
   "id": "37f9f32a",
   "metadata": {},
   "outputs": [],
   "source": [
    "title = children.div.contents[1].text\n",
    "title"
   ]
  },
  {
   "cell_type": "code",
   "execution_count": null,
   "id": "d1563134",
   "metadata": {},
   "outputs": [],
   "source": [
    "author = children.div.contents[2].text\n",
    "author"
   ]
  },
  {
   "cell_type": "code",
   "execution_count": null,
   "id": "a229a7a7",
   "metadata": {},
   "outputs": [],
   "source": [
    "price = children.div.contents[-1].text\n",
    "price"
   ]
  },
  {
   "cell_type": "code",
   "execution_count": null,
   "id": "0ed847e2",
   "metadata": {},
   "outputs": [],
   "source": [
    "# See the info in a DataFrame\n",
    "import pandas as pd\n",
    "\n",
    "data = []\n",
    "\n",
    "for book in books: \n",
    "    book_data = {}\n",
    "    \n",
    "    rank = book.find('span', {'class': 'zg-bdg-text'}).text[1:]\n",
    "    children = book.find('div', {'class': 'zg-grid-general-faceout'})\n",
    "    title = children.div.contents[1].text\n",
    "    author = children.div.contents[2].text\n",
    "    price = children.div.contents[-1].text\n",
    "    \n",
    "    book_data['rank'] = rank\n",
    "    book_data['title'] = title\n",
    "    book_data['author'] = author\n",
    "    book_data['price'] = price\n",
    "    data.append(book_data)"
   ]
  },
  {
   "cell_type": "code",
   "execution_count": null,
   "id": "9f40517f",
   "metadata": {},
   "outputs": [],
   "source": [
    "df = pd.DataFrame(data, columns = ['rank', 'title', 'author', 'price'])\n",
    "df"
   ]
  },
  {
   "cell_type": "code",
   "execution_count": null,
   "id": "0d76a465",
   "metadata": {},
   "outputs": [],
   "source": [
    "# Store the info in csv format \n",
    "import csv \n",
    "\n",
    "csv_headers = ['rank', 'title', 'author', 'price']\n",
    "\n",
    "with open('amazon_books.csv', 'w', encoding = 'utf-8', newline = '') as f:\n",
    "        writer = csv.writer(f)\n",
    "        writer.writerow(csv_headers)"
   ]
  },
  {
   "cell_type": "code",
   "execution_count": null,
   "id": "aa422a20",
   "metadata": {},
   "outputs": [],
   "source": [
    "for book in books: \n",
    "    rank = book.find('span', {'class': 'zg-bdg-text'}).text[1:]\n",
    "    children = book.find('div', {'class': 'zg-grid-general-faceout'})\n",
    "    title = children.div.contents[1].text\n",
    "    author = children.div.contents[2].text\n",
    "    price = children.div.contents[-1].text\n",
    "    \n",
    "    with open('amazon_books.csv', 'a', encoding = 'utf-8', newline = '') as f:\n",
    "        # param 'a' means 'append'\n",
    "        writer = csv.writer(f)\n",
    "        writer.writerow([rank, title, author, price])"
   ]
  },
  {
   "cell_type": "markdown",
   "id": "666b10d9",
   "metadata": {},
   "source": [
    "## Further steps \n",
    "\n",
    "- To automatically visit multiple websites and extract data from them (aka web crawling), see [Scrapy](https://scrapy.org)\n",
    "- Be mindful of legal issues when scraping websites. Use an API whenever possible. "
   ]
  }
 ],
 "metadata": {
  "kernelspec": {
   "display_name": "Python 3 (ipykernel)",
   "language": "python",
   "name": "python3"
  },
  "language_info": {
   "codemirror_mode": {
    "name": "ipython",
    "version": 3
   },
   "file_extension": ".py",
   "mimetype": "text/x-python",
   "name": "python",
   "nbconvert_exporter": "python",
   "pygments_lexer": "ipython3",
   "version": "3.9.7"
  }
 },
 "nbformat": 4,
 "nbformat_minor": 5
}
